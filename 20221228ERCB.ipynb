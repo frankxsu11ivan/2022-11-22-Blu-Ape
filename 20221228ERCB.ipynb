{
  "nbformat": 4,
  "nbformat_minor": 0,
  "metadata": {
    "colab": {
      "provenance": [],
      "authorship_tag": "ABX9TyM8ysITHmk+Qe0z+E+eI6Z/",
      "include_colab_link": true
    },
    "kernelspec": {
      "name": "python3",
      "display_name": "Python 3"
    },
    "language_info": {
      "name": "python"
    }
  },
  "cells": [
    {
      "cell_type": "markdown",
      "metadata": {
        "id": "view-in-github",
        "colab_type": "text"
      },
      "source": [
        "<a href=\"https://colab.research.google.com/github/frankxsu11ivan/2022-11-22-Blu-Ape/blob/main/20221228ERCB.ipynb\" target=\"_parent\"><img src=\"https://colab.research.google.com/assets/colab-badge.svg\" alt=\"Open In Colab\"/></a>"
      ]
    },
    {
      "cell_type": "code",
      "execution_count": 1,
      "metadata": {
        "id": "JokzFBIBLPSH"
      },
      "outputs": [],
      "source": [
        "def rand7():\n",
        "    r1, r2 = rand5(), rand5()\n",
        "    if r2 <= 3:\n",
        "        return r1\n",
        "    elif r2 == 4:\n",
        "        if r1 <= 3:\n",
        "            return 6\n",
        "        else:\n",
        "            return rand7()\n",
        "    else: # r2 == 5\n",
        "        if r1 <= 3:\n",
        "            return 7\n",
        "        else:\n",
        "            return rand7()"
      ]
    }
  ]
}